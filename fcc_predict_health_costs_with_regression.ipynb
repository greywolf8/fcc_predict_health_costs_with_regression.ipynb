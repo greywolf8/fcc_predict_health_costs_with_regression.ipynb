{
  "cells": [
    {
      "cell_type": "markdown",
      "metadata": {
        "id": "view-in-github",
        "colab_type": "text"
      },
      "source": [
        "<a href=\"https://colab.research.google.com/github/greywolf8/fcc_predict_health_costs_with_regression.ipynb/blob/main/fcc_predict_health_costs_with_regression.ipynb\" target=\"_parent\"><img src=\"https://colab.research.google.com/assets/colab-badge.svg\" alt=\"Open In Colab\"/></a>"
      ]
    },
    {
      "cell_type": "code",
      "execution_count": null,
      "metadata": {
        "id": "1rRo8oNqZ-Rj"
      },
      "outputs": [],
      "source": [
        "# Import libraries. You may or may not use all of these.\n",
        "!pip install -q git+https://github.com/tensorflow/docs\n",
        "import matplotlib.pyplot as plt\n",
        "import numpy as np\n",
        "import pandas as pd\n",
        "\n",
        "try:\n",
        "  # %tensorflow_version only exists in Colab.\n",
        "  %tensorflow_version 2.x\n",
        "except Exception:\n",
        "  pass\n",
        "import tensorflow as tf\n",
        "\n",
        "from tensorflow import keras\n",
        "from tensorflow.keras import layers\n",
        "\n",
        "import tensorflow_docs as tfdocs\n",
        "import tensorflow_docs.plots\n",
        "import tensorflow_docs.modeling\n",
        "from sklearn.model_selection import train_test_split\n",
        "from sklearn.preprocessing import StandardScaler\n",
        "from tensorflow.keras.models import Sequential\n",
        "from tensorflow.keras.layers import Dense\n",
        "import matplotlib.pyplot as plt"
      ]
    },
    {
      "cell_type": "code",
      "execution_count": null,
      "metadata": {
        "id": "CiX2FI4gZtTt"
      },
      "outputs": [],
      "source": [
        "# Import data\n",
        "!wget https://cdn.freecodecamp.org/project-data/health-costs/insurance.csv\n",
        "dataset = pd.read_csv('insurance.csv')\n",
        "dataset.tail()\n",
        "# Convert categorical columns to numerical values\n",
        "dataset['sex'] = dataset['sex'].map({'male': 0, 'female': 1})\n",
        "dataset['smoker'] = dataset['smoker'].map({'yes': 1, 'no': 0})\n",
        "dataset['region'] = dataset['region'].astype('category').cat.codes\n",
        "\n",
        "# Separate features and labels\n",
        "features = dataset.drop(columns=['expenses'])\n",
        "labels = dataset['expenses']\n",
        "\n",
        "# Split the data into training and testing datasets (80% train, 20% test)\n",
        "train_dataset, test_dataset, train_labels, test_labels = train_test_split(\n",
        "    features, labels, test_size=0.2, random_state=42\n",
        ")\n",
        "\n",
        "# Normalize the feature datasets\n",
        "scaler = StandardScaler()\n",
        "train_dataset = scaler.fit_transform(train_dataset)\n",
        "test_dataset = scaler.transform(test_dataset)"
      ]
    },
    {
      "cell_type": "code",
      "execution_count": null,
      "metadata": {
        "id": "LcopvQh3X-kX"
      },
      "outputs": [],
      "source": [
        "# Create the model\n",
        "model = Sequential([\n",
        "    Dense(64, activation='relu', input_shape=(train_dataset.shape[1],)),\n",
        "    Dense(64, activation='relu'),\n",
        "    Dense(1)  # Output layer with 1 neuron for regression\n",
        "])\n",
        "\n",
        "# Compile the model\n",
        "model.compile(optimizer='adam', loss='mae', metrics=['mae'])\n",
        "\n",
        "# Train the model\n",
        "history = model.fit(\n",
        "    train_dataset, train_labels,\n",
        "    validation_split=0.2,\n",
        "    epochs=100,\n",
        "    batch_size=32,\n",
        "    verbose=1\n",
        ")\n",
        "# Evaluate the model\n",
        "test_loss, test_mae = model.evaluate(test_dataset, test_labels, verbose=1)\n",
        "print(f\"Mean Absolute Error on Test Dataset: {test_mae}\")\n",
        "\n",
        "# Predict healthcare costs using the test dataset\n",
        "predicted_costs = model.predict(test_dataset).flatten()\n",
        "\n",
        "# Plot the results\n",
        "plt.figure(figsize=(8, 8))\n",
        "plt.scatter(test_labels, predicted_costs, alpha=0.5)\n",
        "plt.plot([0, max(test_labels)], [0, max(test_labels)], color='red')  # Perfect prediction line\n",
        "plt.xlabel('True Expenses')\n",
        "plt.ylabel('Predicted Expenses')\n",
        "plt.title('True vs Predicted Healthcare Costs')\n",
        "plt.show()"
      ]
    },
    {
      "cell_type": "code",
      "execution_count": null,
      "metadata": {
        "id": "Xe7RXH3N3CWU"
      },
      "outputs": [],
      "source": [
        "# RUN THIS CELL TO TEST YOUR MODEL. DO NOT MODIFY CONTENTS.\n",
        "# Test model by checking how well the model generalizes using the test set.\n",
        "loss, mae = model.evaluate(test_dataset, test_labels, verbose=2)\n",
        "\n",
        "print(\"Testing set Mean Abs Error: {:5.2f} expenses\".format(mae))\n",
        "\n",
        "if test_mae < 3500:\n",
        "  print(\"You passed the challenge. Great job!\")\n",
        "else:\n",
        "  print(\"The Mean Abs Error must be less than 3500. Keep trying.\")\n",
        "\n",
        "# Plot predictions.\n",
        "test_predictions = model.predict(test_dataset).flatten()\n",
        "\n",
        "a = plt.axes(aspect='equal')\n",
        "plt.scatter(test_labels, test_predictions)\n",
        "plt.xlabel('True values (expenses)')\n",
        "plt.ylabel('Predictions (expenses)')\n",
        "lims = [0, 50000]\n",
        "plt.xlim(lims)\n",
        "plt.ylim(lims)\n",
        "_ = plt.plot(lims,lims)\n"
      ]
    }
  ],
  "metadata": {
    "colab": {
      "name": "fcc_predict_health_costs_with_regression.ipynb",
      "private_outputs": true,
      "provenance": [],
      "toc_visible": true,
      "include_colab_link": true
    },
    "kernelspec": {
      "display_name": "Python 3",
      "name": "python3"
    }
  },
  "nbformat": 4,
  "nbformat_minor": 0
}